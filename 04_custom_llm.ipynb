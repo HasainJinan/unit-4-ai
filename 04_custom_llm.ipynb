{
 "cells": [
  {
   "cell_type": "code",
   "execution_count": 1,
   "metadata": {},
   "outputs": [],
   "source": [
    "#Import Code\n",
    "import gpt_2_simple as gpt2\n",
    "\n",
    "session = gpt2.start_tf_sess()"
   ]
  },
  {
   "cell_type": "code",
   "execution_count": 2,
   "metadata": {},
   "outputs": [
    {
     "name": "stderr",
     "output_type": "stream",
     "text": [
      "WARNING: All log messages before absl::InitializeLog() is called are written to STDERR\n",
      "I0000 00:00:1732721832.514248 3574659 mlir_graph_optimization_pass.cc:401] MLIR V1 optimization pass is not enabled\n"
     ]
    },
    {
     "name": "stdout",
     "output_type": "stream",
     "text": [
      "Loading checkpoint models/124M/model.ckpt\n",
      "INFO:tensorflow:Restoring parameters from models/124M/model.ckpt\n",
      "Loading dataset...\n"
     ]
    },
    {
     "name": "stderr",
     "output_type": "stream",
     "text": [
      "100%|██████████| 1/1 [00:00<00:00, 1623.18it/s]"
     ]
    },
    {
     "name": "stdout",
     "output_type": "stream",
     "text": [
      "dataset has 3607 tokens\n",
      "Training...\n"
     ]
    },
    {
     "name": "stderr",
     "output_type": "stream",
     "text": [
      "\n"
     ]
    },
    {
     "name": "stdout",
     "output_type": "stream",
     "text": [
      "[1 | 22.95] loss=3.18 avg=3.18\n",
      "[2 | 45.17] loss=2.86 avg=3.02\n",
      "[3 | 64.24] loss=2.57 avg=2.87\n",
      "[4 | 82.00] loss=2.47 avg=2.77\n",
      "[5 | 99.34] loss=2.07 avg=2.62\n",
      "[6 | 119.23] loss=2.05 avg=2.53\n",
      "[7 | 137.33] loss=1.90 avg=2.43\n",
      "[8 | 155.74] loss=2.02 avg=2.38\n",
      "[9 | 174.42] loss=1.65 avg=2.30\n",
      "[10 | 193.55] loss=1.59 avg=2.22\n",
      "[11 | 212.47] loss=1.26 avg=2.13\n",
      "[12 | 231.92] loss=1.23 avg=2.05\n",
      "[13 | 250.48] loss=1.12 avg=1.97\n",
      "[14 | 269.66] loss=0.84 avg=1.89\n",
      "[15 | 288.63] loss=0.65 avg=1.80\n",
      "[16 | 307.29] loss=0.51 avg=1.71\n",
      "[17 | 325.89] loss=0.68 avg=1.65\n",
      "[18 | 345.29] loss=0.46 avg=1.57\n",
      "[19 | 364.42] loss=0.30 avg=1.50\n",
      "[20 | 383.78] loss=0.43 avg=1.44\n",
      "[21 | 403.89] loss=0.29 avg=1.38\n",
      "[22 | 423.59] loss=0.32 avg=1.33\n",
      "[23 | 443.83] loss=0.27 avg=1.28\n",
      "interrupted\n",
      "Saving checkpoint/ultrakill_info/model-23\n"
     ]
    }
   ],
   "source": [
    "#Training Code\n",
    "gpt2.finetune(\n",
    "    session, \n",
    "\t\"ultrakill.txt\", \n",
    "\tmodel_name=\"124M\", \n",
    "\tsteps=100, \n",
    "\trun_name=\"ultrakill_info\"\n",
    ")"
   ]
  },
  {
   "cell_type": "code",
   "execution_count": 3,
   "metadata": {},
   "outputs": [
    {
     "name": "stdout",
     "output_type": "stream",
     "text": [
      "Q: What are arms in ULTRAKILL?\n",
      "A: Nailgun is a melee weapon for the game. It holds 100 nails in its reserve before firing. Nails regenerate at a rate of 5 nails per second. The primary use of this weapon is as a close range weapon for close-in support or as a utility utility against tanky targets. Nails regenerate at a rate of 5 nails per second, assuming all nails hit. The main utility of this weapon is as a utility weapon against certain enemies. While it is not intended to replace the weapon, it does not perform as well as its primary function. Nails regenerate at a rate of 5 nails per second, assuming all nails hit. While good for keeping most enemies at a slight distance from you while making your attacks more dangerous, certain enemies are resistant against certain types of damage, causing them to be resistant against Projectile Boosts, Projectile Boost Curses, Shockwave, Poisonous Spikes, and more. Nails regenerate at a rate of 5 nails per second, assuming all nails struck are from a close enough distance. While not as effective as the primary function of the weapon, it does provide more utility than the core. These nails can be used more than once, each increasing the rate at which nails regenerate. For example, if an enemy is struck 20 nails deep with a single blow to their body, all 204 will soon regenerate upon landing, while another 50 will briefly behtowper at a time, absorbing all wounds before repositioning. Nails do not feature in this list.\n",
      "Q: How does the Nailgun work?\n",
      "A: The Nailgun is unlocked in the level 1-1: SHIP OF FOOLS. It holds 100 nails in its reserve. It rapidly fires these nails at a rate of 5 nails per second, assuming all nails hit. The charge after a few seconds will cause the nails to deal 0.015 damage, assuming the damage total is not over .......... Nails regenerate at a rate of 5 nails per second, assuming all nails hit. While very powerful, most enemies are resistant against Projectile Boosts, Projectile Boost Curses, and Shockwaves, making them resistant against Projectile Boosts, Projectile Boost Curses, and more. Nails regenerate at a rate of 5 nails per second, assuming all nails hit. With each meter charge, the nails do more damage. However, certain enemies are resistant against Projectile Boosts, Projectile Boost Curses, and Shockwaves, making them more resistant against Projectile Boosts, Projectile Boost Curses, and Shockwaves than others. Nails regenerate at a rate of 5 nails per second, assuming all nails hit. With each nail, a heart can be obtained. Each nail will cause a shell to be attached to its surface. These shells can then be used as rockets, gaining at least one shell at a time, dealing 500 damage, and having no way to find another. Nails are extremely powerful, maintaining a lethality rating of 100 for the majority of their rapid fire. Nails also have a unique interaction with the Electric Railcannon. The Electric Railcannon fires 8, 1.25 damage shots with the M3/M4(cannon), 50 damage shots with the SM3/SM4(armsour), and 150 damage shots with the M4/M6(blastercannon). Nails also have a significant impact on the course of the game, as they can fly out of the way when firing ATGMS/SPRUGS, and can be a trouble spot for tanky targets. With proper coordination, I will give you an understanding of the Railcannon when assessing suit choices. How does the Railcannon work? The Railcannon is unlocked in the level 2-2: SHIP OF FOOLS. It holds 100 nails in its reserve. It rapidly fires these nails at a rate of 5 nails per second, assuming all nails hit. The charge after a few seconds will cause the nails to deal 0.015 damage, assuming all damage was dealt. With every meter charge, the nails do more damage. However, certain enemies are resistant against Projectile Boosts, Projectile Boost Curses, and Shockwaves, making them resistant against Projectile Boosts, Projectile Boost Curses, and Shockwaves, than others. Nails regenerate at a rate of 5 nails per second, assuming all nails hit. With each nail, a heart can be obtained. Each nail will cause a shell to be attached to its surface. These shells can be obtained at a rate of 5 shells per shot. Each one dealing 500 damage. At a rate of 5 shells per shot, I will cause the next shell to deal 0.015 damage, assuming all damage was dealt. The main utility of the Guncannon is the Charge. The Charge fires a single 8-millimeter beam of electricity at a moving enemy, dealing 12 damage, parrying it, and burning for\n"
     ]
    }
   ],
   "source": [
    "gpt2.generate(session, prefix=\"Q: What are arms in ULTRAKILL?\")"
   ]
  },
  {
   "cell_type": "code",
   "execution_count": 4,
   "metadata": {},
   "outputs": [
    {
     "name": "stdout",
     "output_type": "stream",
     "text": [
      "Q: What is the Rocket Launcher?\n",
      "A: The Rocket Launcher is a secondary feature in Fallout: New Vegas. It fires a rocket out in front of you, exploding upon contact with a surface or enemy. It is capable of reaching a certain speed and damage, as long as you avoid being hit by it. The rocket will fly out in front of you in a line, exploding upon contact with a surface or enemy. The enemy, upon landing, may parry the shot, or may not. The rocket may damage a few things, such as a rocket launcher, rocket core, and rocket colliding with cars. Thereafter, rockets from the Launcher are typically used to send large groups of people, usually men and women, to fight against the Machines. Nails! For women, the Rocket Launcher is a turn-based, leader-driven combat weapon. No one under 25 years of age is allowed to own a rocket. Instead, all rocket launches are submitted to a judging panel, and all losses are considered life-threatening. For more information, see the Malevolent Makers. Nails! For more information about the game's mechanics, music, and graphics, see the graphics section.\n",
      "\n",
      "Q: How is the Launcher different from the default game?\n",
      "A: The game begins with the Launcher mounted on a rock. At the beginning of each level, you play as a rock named \"Kitty\" by pressing alt and clicking. After beating him, you unlock the alternate weapon, the Rocket Launcher. During the course of the game, you can fire the rockets from the Rocket Launcher to deal super hitscan attacks, clear marked areas, recover health, and get the F-point for doing so. There are 4 rocket classes, double-A, double-B, and quadruple-B. Each rocket has a unique attack that varies in power and damage. For starters, the rocket that hits the most damage punch has a 0.25 damage ceiling. At higher levels, however, the damage cap on certain damage fists increases, making certain attacks more consistent and safe, and some attacks harder and less consistent than others. For more information, see the different attacks.\n",
      "\n",
      "Q: How is the game set up?\n",
      "A: The game begins in a desert area. You play as Slade, an American soldier. Slade is a tough and experienced soldier. He is best known for his deadly double-A shots against groups of enemies, while maintaining his distance against direct enemy attacks. You can join the game as a support individual and boss, and can join as long as you have your Armed Forces Class active.\n",
      "\n",
      "Q: How is the game set up?\n",
      "A: Since the game begins in a city, all levels are Level 1-1: Rifleman. There are 3 levels to level: Normal, Premium, and Legendary. Each have their own unique playstyle. The highest level has the full arsenal of weapons, while the midlevel are split between playstyles that challenge the game's clear-cut mechanics and challenge the player to a certain core stat, such as Scanner Lasso. Each level has its own style of play and may not always match the game's clear objectives. For more information, see the game's clear objectives.\n",
      "\n",
      "Q: How is the game set up?\n",
      "A: The game begins in a small, nondescript building. You walk up to a door on the 1st floor, and see a man in a red top hat standing at a checkpoint near the fountain. You can walk in to see the body of the suspect, but be warned, some enemies are more dangerous than others. For more information about enemies, be sure to check out the game's clear enemies.\n",
      "\n",
      "Q: How is the game set up?\n",
      "A: The game begins in a nondescript building. You walk up to a door on the 1st floor, and see a man in a red top hat standing at a checkpoint near the fountain. You can walk in to see the body of the suspect, but be warned, some enemies are more dangerous than others. For more information about enemies, be sure to check out the game's clear enemies.\n",
      "\n",
      "Q: How is the game set up?\n",
      "A: The game begins in a small, nondescript building. You walk up to a door on the 1st floor, and see a man in a red top hat standing at a checkpoint near the fountain. You can walk in to see the body of the suspect, but be warned, some enemies are more dangerous than others. For more information about enemies, be sure to check out the game's clear enemies.\n",
      "\n",
      "Q: What are the game stages?\n",
      "A: The game begins in a small hallway. You walk up to a door on the 1st floor, and see a man standing at a checkpoint near a train. You can walk in to see the body of the suspect, but be warned, some enemies are more dangerous than others. For more information about\n"
     ]
    }
   ],
   "source": [
    "gpt2.generate(session, prefix=\"Q: What is the Rocket Launcher?\")"
   ]
  },
  {
   "cell_type": "code",
   "execution_count": 5,
   "metadata": {},
   "outputs": [
    {
     "name": "stdout",
     "output_type": "stream",
     "text": [
      "Q: How do I get Points?\n",
      "A: Points can be obtained by playing the levels and beating bosses. Points can be obtained by playing the levels and beating enemies.\n",
      "Q: How do I get alternate weapon variants?\n",
      "A: You can unlock each of the 3 alternate weapon variants by completing the mini quest tied to each one. For the Alternate Revolver, you must find 3 slab-shaped buttons around the 4 levels of Limbo. After pressing all 4 and going to the large vault door to the left of the hallway intersection will give you the Alternate (Slab) Revolver. For the Alternate Shotgun, you need to find 3 slabs located around the Violence Layer. Each slab is able to be pressed after completing a timed course to reach each slabs. After reaching a door on 7-2; LIGHT UP THE NIGHT that is located at a train checkpoint in a building with a hole in the roof, you can open the door after the slabs have been pressed. There you will obtain the Jackhammer. With a good deal of skill, you can open the door after the Slabs have been pressed, replacing the shotgun with the Mk. 25, and flying around the Violence Layer for another level.\n",
      "Q: How do I get alternate weapon variants?\n",
      "A: You can obtain each of the 3 alternate weapon variants by completing the mini quest tied to each one. For the Alternate Weapon Variants, you need to find 3 slabs located around the Violence Layer. Each slab is able to be pressed after completing a timed course to reach each slabs. After reaching a door on 7-2; LIGHT UP THE NIGHT that is located at a train checkpoint in a building with a hole in the roof, you can open the door after the slabs have been pressed. There you will obtain the Jackhammer. With a good deal of skill, you can open the door after the slabs have been pressed, replacing the shotgun with the Mk. 25, and flying around the Violence Layer for another level.\n",
      "\n",
      "Q: How do I get alternate weapon variants?\n",
      "A: You can obtain each of the 3 alternate weapon variants by completing the mini quest tied to each one. After beating the boss Nailgunter in the level 5-2; CLAIR DE SOLEIL, you can open the door after the slabs have been pressed. There you will obtain the Jackhammer. With a good deal of skill, you can open the door after the slabs have been pressed, replacing the shotgun with the Mk. 25, and flying around the Violence Layer for another level.\n",
      "\n",
      "Q: How do I get alternate weapon variants?\n",
      "A: You can obtain each of the 3 alternate weapon variants by completing the mini quest tied to each one. After beating the boss Nailgunter in the level 5-2; CLAIR DE SOLEIL, you can open the door after the slabs have been pressed. There you will obtain the Jackhammer. With a good deal of skill, you can open the door after the slabs have been pressed, replacing the shotgun with the Mk. 25, and flying around the Violence Layer for another level.\n",
      "\n",
      "Q: How do I get alternate weapon variants?\n",
      "A: You can obtain each of the 3 alternate weapon variants by completing the mini quest tied to each one. After beating the boss Nailgunter in the level 5-2; CLAIR DE SOLEIL, you can open the door after the slabs have been pressed. There you will obtain the Jackhammer. With a good deal of skill, you can open the door after the slabs have been pressed, replacing the shotgun with the Mk. 25, and flying around the Violence Layer for another level.\n",
      "\n",
      "Q: How do I get alternate weapon variants?\n",
      "A: You can obtain each of the 3 alternate weapon variants by completing the mini quest tied to each one. After beating the boss Nailgunter in the level 5-2; CLAIR DE SOLEIL, you can open the door after the slabs have been pressed. There you will obtain the Jackhammer. With a good deal of skill, you can open the door after the slabs have been pressed, replacing the shotgun with the Mk. 25, and flying around the Violence Layer for another level.\n",
      "\n",
      "Q: How do I get alternate weapon variants?\n",
      "A: You can obtain each of the 3 alternate weapon variants by completing the mini quest tied to each one. After beating the boss Nailgunter in the level 5-2; CLAIR DE SOLEIL, you can open the door after the slabs. There you will obtain the Jackhammer. With a good deal of skill, you can open the door after the slabs have been pressed, replacing the shotgun with the Mk. 25, and flying around the Violence Layer for another level.\n",
      "\n",
      "Q: How do I get alternate weapon variants?\n",
      "A: You can get alternate weapon variants by completing the mini quest tied to each\n"
     ]
    }
   ],
   "source": [
    "gpt2.generate(session, prefix=\"Q: How do I get Points?\")"
   ]
  }
 ],
 "metadata": {
  "kernelspec": {
   "display_name": "Python 3",
   "language": "python",
   "name": "python3"
  },
  "language_info": {
   "codemirror_mode": {
    "name": "ipython",
    "version": 3
   },
   "file_extension": ".py",
   "mimetype": "text/x-python",
   "name": "python",
   "nbconvert_exporter": "python",
   "pygments_lexer": "ipython3",
   "version": "3.10.8"
  },
  "orig_nbformat": 4,
  "vscode": {
   "interpreter": {
    "hash": "b0fa6594d8f4cbf19f97940f81e996739fb7646882a419484c72d19e05852a7e"
   }
  }
 },
 "nbformat": 4,
 "nbformat_minor": 2
}
